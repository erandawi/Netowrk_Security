{
 "cells": [
  {
   "cell_type": "code",
   "execution_count": 9,
   "metadata": {},
   "outputs": [],
   "source": [
    "import os \n",
    "import pandas as pd"
   ]
  },
  {
   "cell_type": "code",
   "execution_count": 12,
   "metadata": {},
   "outputs": [],
   "source": [
    "data = pd.read_csv(r\"../Network_Data\\NetworkData.csv\")"
   ]
  },
  {
   "cell_type": "code",
   "execution_count": 13,
   "metadata": {},
   "outputs": [
    {
     "data": {
      "text/plain": [
       "(11055, 31)"
      ]
     },
     "execution_count": 13,
     "metadata": {},
     "output_type": "execute_result"
    }
   ],
   "source": [
    "data.shape"
   ]
  },
  {
   "cell_type": "code",
   "execution_count": 14,
   "metadata": {},
   "outputs": [
    {
     "data": {
      "text/plain": [
       "Index(['having_IP_Address', 'URL_Length', 'Shortining_Service',\n",
       "       'having_At_Symbol', 'double_slash_redirecting', 'Prefix_Suffix',\n",
       "       'having_Sub_Domain', 'SSLfinal_State', 'Domain_registeration_length',\n",
       "       'Favicon', 'port', 'HTTPS_token', 'Request_URL', 'URL_of_Anchor',\n",
       "       'Links_in_tags', 'SFH', 'Submitting_to_email', 'Abnormal_URL',\n",
       "       'Redirect', 'on_mouseover', 'RightClick', 'popUpWidnow', 'Iframe',\n",
       "       'age_of_domain', 'DNSRecord', 'web_traffic', 'Page_Rank',\n",
       "       'Google_Index', 'Links_pointing_to_page', 'Statistical_report',\n",
       "       'Result'],\n",
       "      dtype='object')"
      ]
     },
     "execution_count": 14,
     "metadata": {},
     "output_type": "execute_result"
    }
   ],
   "source": [
    "data.columns"
   ]
  },
  {
   "cell_type": "code",
   "execution_count": 20,
   "metadata": {},
   "outputs": [
    {
     "name": "stdout",
     "output_type": "stream",
     "text": [
      "<class 'pandas.core.frame.DataFrame'>\n",
      "RangeIndex: 11055 entries, 0 to 11054\n",
      "Data columns (total 31 columns):\n",
      " #   Column                       Non-Null Count  Dtype\n",
      "---  ------                       --------------  -----\n",
      " 0   having_IP_Address            11055 non-null  int64\n",
      " 1   URL_Length                   11055 non-null  int64\n",
      " 2   Shortining_Service           11055 non-null  int64\n",
      " 3   having_At_Symbol             11055 non-null  int64\n",
      " 4   double_slash_redirecting     11055 non-null  int64\n",
      " 5   Prefix_Suffix                11055 non-null  int64\n",
      " 6   having_Sub_Domain            11055 non-null  int64\n",
      " 7   SSLfinal_State               11055 non-null  int64\n",
      " 8   Domain_registeration_length  11055 non-null  int64\n",
      " 9   Favicon                      11055 non-null  int64\n",
      " 10  port                         11055 non-null  int64\n",
      " 11  HTTPS_token                  11055 non-null  int64\n",
      " 12  Request_URL                  11055 non-null  int64\n",
      " 13  URL_of_Anchor                11055 non-null  int64\n",
      " 14  Links_in_tags                11055 non-null  int64\n",
      " 15  SFH                          11055 non-null  int64\n",
      " 16  Submitting_to_email          11055 non-null  int64\n",
      " 17  Abnormal_URL                 11055 non-null  int64\n",
      " 18  Redirect                     11055 non-null  int64\n",
      " 19  on_mouseover                 11055 non-null  int64\n",
      " 20  RightClick                   11055 non-null  int64\n",
      " 21  popUpWidnow                  11055 non-null  int64\n",
      " 22  Iframe                       11055 non-null  int64\n",
      " 23  age_of_domain                11055 non-null  int64\n",
      " 24  DNSRecord                    11055 non-null  int64\n",
      " 25  web_traffic                  11055 non-null  int64\n",
      " 26  Page_Rank                    11055 non-null  int64\n",
      " 27  Google_Index                 11055 non-null  int64\n",
      " 28  Links_pointing_to_page       11055 non-null  int64\n",
      " 29  Statistical_report           11055 non-null  int64\n",
      " 30  Result                       11055 non-null  int64\n",
      "dtypes: int64(31)\n",
      "memory usage: 2.6 MB\n"
     ]
    }
   ],
   "source": [
    "data.info()"
   ]
  }
 ],
 "metadata": {
  "kernelspec": {
   "display_name": "Python 3",
   "language": "python",
   "name": "python3"
  },
  "language_info": {
   "codemirror_mode": {
    "name": "ipython",
    "version": 3
   },
   "file_extension": ".py",
   "mimetype": "text/x-python",
   "name": "python",
   "nbconvert_exporter": "python",
   "pygments_lexer": "ipython3",
   "version": "3.8.0"
  }
 },
 "nbformat": 4,
 "nbformat_minor": 2
}
